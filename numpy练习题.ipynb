{
 "cells": [
  {
   "cell_type": "markdown",
   "id": "2241df87",
   "metadata": {},
   "source": [
    "# numpy基础练习（满分100，每题5分）"
   ]
  },
  {
   "cell_type": "markdown",
   "id": "f43b1deb",
   "metadata": {},
   "source": [
    "1. 导入numpy库并取别名为np"
   ]
  },
  {
   "cell_type": "code",
   "execution_count": 2,
   "id": "8076703e",
   "metadata": {},
   "outputs": [],
   "source": [
    "import numpy as np"
   ]
  },
  {
   "cell_type": "markdown",
   "id": "f72664b4",
   "metadata": {},
   "source": [
    "2. 创建一个长度为10的空向量，并输出结果"
   ]
  },
  {
   "cell_type": "markdown",
   "source": [],
   "metadata": {
    "collapsed": false
   }
  },
  {
   "cell_type": "code",
   "execution_count": null,
   "id": "1f500f30",
   "metadata": {},
   "outputs": [],
   "source": [
    "A=np.zeros((1,10))\n",
    "print(A)"
   ]
  },
  {
   "cell_type": "markdown",
   "id": "3b9338e2",
   "metadata": {},
   "source": [
    "3. 创建一个长度为10的向量（要求除了第五个值为1之外，其他值均为0），并输出结果"
   ]
  },
  {
   "cell_type": "code",
   "execution_count": 1,
   "id": "0913d665",
   "metadata": {},
   "outputs": [
    {
     "ename": "NameError",
     "evalue": "name 'A' is not defined",
     "output_type": "error",
     "traceback": [
      "\u001B[1;31m---------------------------------------------------------------------------\u001B[0m",
      "\u001B[1;31mNameError\u001B[0m                                 Traceback (most recent call last)",
      "\u001B[1;32m<ipython-input-1-b788efcf58a8>\u001B[0m in \u001B[0;36m<module>\u001B[1;34m()\u001B[0m\n\u001B[1;32m----> 1\u001B[1;33m \u001B[0mA\u001B[0m\u001B[1;33m[\u001B[0m\u001B[1;36m4\u001B[0m\u001B[1;33m]\u001B[0m\u001B[1;33m=\u001B[0m\u001B[1;36m1\u001B[0m\u001B[1;33m\u001B[0m\u001B[0m\n\u001B[0m",
      "\u001B[1;31mNameError\u001B[0m: name 'A' is not defined"
     ]
    }
   ],
   "source": [
    "A=np.zeros((1,10))\n",
    "A[4]=1"
   ]
  },
  {
   "cell_type": "markdown",
   "id": "992ead6e",
   "metadata": {},
   "source": [
    "4. 创建一个值域范围从10到49的向量，并输出结果"
   ]
  },
  {
   "cell_type": "code",
   "execution_count": 1,
   "id": "4ff54840",
   "metadata": {},
   "outputs": [],
   "source": [
    "B=np.arange(10,49)\n",
    "print(B)"
   ]
  },
  {
   "cell_type": "markdown",
   "id": "fa0985ca",
   "metadata": {},
   "source": [
    "5. 创建一个3x3并且值从0到8的矩阵，并输出结果"
   ]
  },
  {
   "cell_type": "code",
   "execution_count": null,
   "id": "f92bec64",
   "metadata": {},
   "outputs": [],
   "source": [
    "C=np.arange(0,8).reshape(3,3)"
   ]
  },
  {
   "cell_type": "markdown",
   "id": "8fc4d61d",
   "metadata": {},
   "source": [
    "6. 对于上一题中创建的矩阵，输出其中的第二行第三列的元素"
   ]
  },
  {
   "cell_type": "code",
   "execution_count": null,
   "id": "fdc6741c",
   "metadata": {},
   "outputs": [],
   "source": [
    "print(C[2][3])"
   ]
  },
  {
   "cell_type": "markdown",
   "id": "3361d538",
   "metadata": {},
   "source": [
    "7. 创建一个3x3的单位矩阵，并输出结果"
   ]
  },
  {
   "cell_type": "code",
   "execution_count": null,
   "id": "27da1525",
   "metadata": {},
   "outputs": [],
   "source": [
    "D=np.eye(3,3)"
   ]
  },
  {
   "cell_type": "markdown",
   "id": "beb38124",
   "metadata": {},
   "source": [
    "8. 创建一个10x10的随机矩阵，找到他的最大值和最小值，输出矩阵以及最大值和最小值"
   ]
  },
  {
   "cell_type": "code",
   "execution_count": null,
   "id": "12c0d65f",
   "metadata": {},
   "outputs": [],
   "source": [
    "a=np.random.randn(10,10)\n",
    "print(np.max(a),np.min(a))"
   ]
  },
  {
   "cell_type": "markdown",
   "id": "cbdc630b",
   "metadata": {},
   "source": [
    "9. 对一个5x5的随机矩阵做归一化（提示：(x-min)/(max-min)），并输出归一化之后的结果"
   ]
  },
  {
   "cell_type": "code",
   "execution_count": null,
   "outputs": [],
   "source": [
    "b=np.random.randn(5,5)\n",
    "print((b-np.min(b))/(np.max(b)-np.min(b)))"
   ],
   "metadata": {
    "collapsed": false,
    "pycharm": {
     "name": "#%%\n"
    }
   }
  },
  {
   "cell_type": "code",
   "execution_count": null,
   "id": "dd2a00ed",
   "metadata": {},
   "outputs": [],
   "source": []
  },
  {
   "cell_type": "markdown",
   "id": "d5c81a0a",
   "metadata": {},
   "source": [
    "10. 对矩阵A求转置并输出"
   ]
  },
  {
   "cell_type": "code",
   "execution_count": null,
   "id": "7a052e5b",
   "metadata": {},
   "outputs": [],
   "source": [
    "A = np.array([[1,2,3],[4,5,6]],dtype=np.float64)\n",
    "print(A.T)\n"
   ]
  },
  {
   "cell_type": "markdown",
   "id": "85c5a3b1",
   "metadata": {},
   "source": [
    "11. 对本题中给出的两个矩阵进行加法操作并输出结果"
   ]
  },
  {
   "cell_type": "code",
   "execution_count": null,
   "id": "d95e979e",
   "metadata": {},
   "outputs": [],
   "source": [
    "x = np.array([[1,2],[3,4]],dtype=np.float64)\n",
    "y = np.array([[5,6],[7,8]],dtype=np.float64)\n",
    "print(x+y)\n"
   ]
  },
  {
   "cell_type": "markdown",
   "id": "2890a9c3",
   "metadata": {},
   "source": [
    "12. 对本题中给出的两个矩阵进行减法操作（以x为被减数，y为减数）并输出结果"
   ]
  },
  {
   "cell_type": "code",
   "execution_count": null,
   "id": "697df1a5",
   "metadata": {},
   "outputs": [],
   "source": [
    "x = np.array([[1,2],[3,4]],dtype=np.float64)\n",
    "y = np.array([[5,6],[7,8]],dtype=np.float64)\n",
    "print(x-y)\n"
   ]
  },
  {
   "cell_type": "markdown",
   "id": "a796e4c8",
   "metadata": {},
   "source": [
    "13. 对本题中给出的两个矩阵，进行对应位置相乘的操作并输出结果"
   ]
  },
  {
   "cell_type": "code",
   "execution_count": null,
   "id": "f9961d8b",
   "metadata": {},
   "outputs": [],
   "source": [
    "x = np.array([[1,2],[3,4]],dtype=np.float64)\n",
    "y = np.array([[5,6],[7,8]],dtype=np.float64)\n",
    "print(x*y)\n"
   ]
  },
  {
   "cell_type": "markdown",
   "id": "7839c30f",
   "metadata": {},
   "source": [
    "14. 对本题中给出的两个矩阵，进行矩阵乘法的操作并输出结果"
   ]
  },
  {
   "cell_type": "code",
   "execution_count": null,
   "id": "4a346120",
   "metadata": {},
   "outputs": [],
   "source": [
    "x = np.array([[1,2],[3,4]],dtype=np.float64)\n",
    "y = np.array([[5,6],[7,8]],dtype=np.float64)\n",
    "print(np.matmul(x,y))\n",
    "\n"
   ]
  },
  {
   "cell_type": "markdown",
   "id": "a621d74c",
   "metadata": {},
   "source": [
    "15. 对数组B中的每一项进行向下取整，并输出向下取整后的数组"
   ]
  },
  {
   "cell_type": "code",
   "execution_count": null,
   "id": "ce2b8718",
   "metadata": {},
   "outputs": [],
   "source": [
    "B = np.random.uniform(0,10,10)\n",
    "print(np.floor(B))\n"
   ]
  },
  {
   "cell_type": "markdown",
   "id": "b5b4905b",
   "metadata": {},
   "source": [
    "16. 创建一个长度为11的向量，要求这11个数字是0到1之间的等差数列，第一个元素为0，最后一个元素为1，并输出该向量"
   ]
  },
  {
   "cell_type": "code",
   "execution_count": null,
   "id": "52c71575",
   "metadata": {},
   "outputs": [],
   "source": [
    "D=np.linspace(0,1,11)\n",
    "print(D)"
   ]
  },
  {
   "cell_type": "markdown",
   "id": "898cd06b",
   "metadata": {},
   "source": [
    "17. 输出对16题中创建的向量进行求和（即各项相加，最终得到一个数字）得到的结果（可能会有很小的计算错误，可以忽视或者只保留一位小数）"
   ]
  },
  {
   "cell_type": "code",
   "execution_count": null,
   "id": "66ab32b4",
   "metadata": {},
   "outputs": [],
   "source": [
    "print(np.sum(D))"
   ]
  },
  {
   "cell_type": "markdown",
   "id": "d03723aa",
   "metadata": {},
   "source": [
    "18. 输出16题中创建的向量的均值（直接调用numpy中的函数实现这一点，不要自己写公式）"
   ]
  },
  {
   "cell_type": "code",
   "execution_count": null,
   "id": "77f0a574",
   "metadata": {},
   "outputs": [],
   "source": [
    "print(np.average(D))"
   ]
  },
  {
   "cell_type": "markdown",
   "id": "fd7cd20b",
   "metadata": {},
   "source": [
    "19. 对16题创建的向量中的所有元素求平方，并输出结果"
   ]
  },
  {
   "cell_type": "code",
   "execution_count": null,
   "id": "a4956896",
   "metadata": {},
   "outputs": [],
   "source": [
    "print(D**2)"
   ]
  },
  {
   "cell_type": "markdown",
   "id": "67656d27",
   "metadata": {},
   "source": [
    "20. 对16题创建的向量中的所有元素开平方，并输出结果"
   ]
  },
  {
   "cell_type": "code",
   "execution_count": null,
   "id": "90577f0b",
   "metadata": {},
   "outputs": [],
   "source": [
    "print(np.sqrt(D))"
   ]
  }
 ],
 "metadata": {
  "kernelspec": {
   "display_name": "Python 3 (ipykernel)",
   "language": "python",
   "name": "python3"
  },
  "language_info": {
   "codemirror_mode": {
    "name": "ipython",
    "version": 3
   },
   "file_extension": ".py",
   "mimetype": "text/x-python",
   "name": "python",
   "nbconvert_exporter": "python",
   "pygments_lexer": "ipython3",
   "version": "3.9.7"
  }
 },
 "nbformat": 4,
 "nbformat_minor": 5
}